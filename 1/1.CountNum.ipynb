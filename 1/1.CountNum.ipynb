{
 "nbformat": 4,
 "nbformat_minor": 2,
 "metadata": {
  "language_info": {
   "name": "python",
   "codemirror_mode": {
    "name": "ipython",
    "version": 3
   },
   "version": "3.7.0-final"
  },
  "orig_nbformat": 2,
  "file_extension": ".py",
  "mimetype": "text/x-python",
  "name": "python",
  "npconvert_exporter": "python",
  "pygments_lexer": "ipython3",
  "version": 3,
  "kernelspec": {
   "name": "python37064bitbaseconda24c38771a7744f689cf6683cc835f426",
   "display_name": "Python 3.7.0 64-bit ('base': conda)"
  }
 },
 "cells": [
  {
   "cell_type": "code",
   "execution_count": 1,
   "metadata": {},
   "outputs": [],
   "source": [
    "import os\n",
    "PATH = \".\\\\\""
   ]
  },
  {
   "cell_type": "code",
   "execution_count": 2,
   "metadata": {},
   "outputs": [],
   "source": [
    "class Pages:\n",
    "    def getPage(self)->int:\n",
    "        page = int(input(\"请输入页码\"))#文件输入将其注释\n",
    "        #f1 = open(PATH + \"1.CountNum\", \"r\", encoding = 'UTF-8')\n",
    "        #page = int(f1.read())\n",
    "        return page\n",
    "    def CountNum(self, page:int)->list:\n",
    "        list = [0] * 10\n",
    "        for i in range(1, page + 1):\n",
    "            while i:\n",
    "                a = (i % 10)\n",
    "                list[a] += 1\n",
    "                i //= 10\n",
    "        return list"
   ]
  },
  {
   "cell_type": "code",
   "execution_count": 3,
   "metadata": {},
   "outputs": [],
   "source": [
    "pages = Pages()\n",
    "page1 = pages.getPage()\n",
    "list = pages.CountNum(page1)"
   ]
  },
  {
   "cell_type": "code",
   "execution_count": 4,
   "metadata": {},
   "outputs": [
    {
     "output_type": "stream",
     "name": "stdout",
     "text": "页码：5，\n0：0，\n1：1，\n2：1，\n3：1，\n4：1，\n5：1，\n6：0，\n7：0，\n8：0，\n9：0\n"
    }
   ],
   "source": [
    "result = \"页码：{}，\\n0：{}，\\n1：{}，\\n2：{}，\\n3：{}，\\n4：{}，\\n5：{}，\\n6：{}，\\n7：{}，\\n8：{}，\\n9：{}\".format(page1, list[0], list[1], list[2], list[3], list[4], list[5], list[6], list[7], list[8], list[9] )\n",
    "#f = open(PATH + '1.CountNum', 'a', encoding='UTF-8' )\n",
    "#f.write(result)\n",
    "#f.close()\n",
    "print(result)\n",
    ""
   ]
  }
 ]
}