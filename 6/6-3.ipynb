{
 "nbformat": 4,
 "nbformat_minor": 2,
 "metadata": {
  "language_info": {
   "name": "python",
   "codemirror_mode": {
    "name": "ipython",
    "version": 3
   },
   "version": "3.7.0-final"
  },
  "orig_nbformat": 2,
  "file_extension": ".py",
  "mimetype": "text/x-python",
  "name": "python",
  "npconvert_exporter": "python",
  "pygments_lexer": "ipython3",
  "version": 3,
  "kernelspec": {
   "name": "python37064bitbaseconda24c38771a7744f689cf6683cc835f426",
   "display_name": "Python 3.7.0 64-bit ('base': conda)"
  }
 },
 "cells": [
  {
   "cell_type": "code",
   "execution_count": 29,
   "metadata": {},
   "outputs": [],
   "source": [
    "import numpy as np"
   ]
  },
  {
   "cell_type": "code",
   "execution_count": 30,
   "metadata": {},
   "outputs": [],
   "source": [
    "class Solution:\n",
    "    def __init__(self, p):\n",
    "        self.n = len(p)  # 获取n大小\n",
    "        self.minP = float(\"inf\")  # 记录最小的 花费\n",
    "        self.tempMinP = 0  # 保存中间值\n",
    "        self.p = p      # 人员花费时间表\n",
    "        self.t = np.zeros((self.n, self.n))  # 标记数组全为零，\n",
    "        self.b = 0      # 记录是否已经走完一趟（0 无，1 走完一次）\n",
    "        self.path = []  # 负责记录路径\n",
    "    def getMinP(self, k=0):\n",
    "        if self.b == 1 and self.tempMinP >= self.minP: return  # 进行减枝\n",
    "        if k == self.n:\n",
    "            self.b = 1\n",
    "            if self.tempMinP < self.minP:\n",
    "                self.minP = self.tempMinP\n",
    "                self.path = [np.argmax(v)+1 for v in self.t]\n",
    "            return\n",
    " \n",
    "        for i in range(self.n):\n",
    "            if (1 not in self.t[k]) and (1 not in self.t[:,i]):  # 判断第k人是否已经分配工作，第i项工作是否已经被分配\n",
    "                self.tempMinP += self.p[k][i]  # 添加一个值\n",
    "                self.t[k, i] = 1               # 标记此位置已经走过\n",
    "                self.getMinP(k + 1)            # 添加下一个人员\n",
    "                self.tempMinP -= self.p[k][i]  # 恢复中间变量\n",
    "                self.t[k, i] = 0               # 恢复位置\n",
    "    def getRul(self):\n",
    "        self.getMinP()\n",
    "        print('人员依次选择的工作为：',self.path)\n",
    "        print('最短时间为：',self.minP)"
   ]
  },
  {
   "cell_type": "code",
   "execution_count": 31,
   "metadata": {},
   "outputs": [
    {
     "output_type": "stream",
     "name": "stdout",
     "text": "人员依次选择的工作为： [2, 1, 3]\n最短时间为： 9\n人员依次选择的工作为： [3, 2, 5, 1, 4]\n最短时间为： 144\n人员依次选择的工作为： [3, 2, 4, 1]\n最短时间为： 106\n人员依次选择的工作为： [4, 3, 2, 1]\n最短时间为： 27\n人员依次选择的工作为： [4, 1, 2, 3]\n最短时间为： 171\n"
    }
   ],
   "source": [
    "a = [[10,2,3], [2,3,4], [3,4,5]]  # 9\n",
    "b = [[50,43,1,58,60], [87,22,5,62,71], [62,98,97,27,38], [56,57,96,73,71], [92,36,43,27,95]]\n",
    "c = [[50,43,1,58], [87,22,5,62], [62,98,97,27], [56,57,96,73]]\n",
    "d = [[8,6,13,4], [9,5,7,15], [5,2,7,11], [14,12,16,13]]\n",
    "e = [[85,45,12,16], [71,59,86,41], [88,45,23,76], [86,78,39,51]]\n",
    "result=[a,b,c,d,e]\n",
    "for i in result:\n",
    "    solu = Solution(i)\n",
    "    solu.getRul()"
   ]
  }
 ]
}