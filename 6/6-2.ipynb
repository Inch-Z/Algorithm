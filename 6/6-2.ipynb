{
 "nbformat": 4,
 "nbformat_minor": 2,
 "metadata": {
  "language_info": {
   "name": "python",
   "codemirror_mode": {
    "name": "ipython",
    "version": 3
   },
   "version": "3.7.0-final"
  },
  "orig_nbformat": 2,
  "file_extension": ".py",
  "mimetype": "text/x-python",
  "name": "python",
  "npconvert_exporter": "python",
  "pygments_lexer": "ipython3",
  "version": 3,
  "kernelspec": {
   "name": "python37064bitbaseconda24c38771a7744f689cf6683cc835f426",
   "display_name": "Python 3.7.0 64-bit ('base': conda)"
  }
 },
 "cells": [
  {
   "cell_type": "code",
   "execution_count": 4,
   "metadata": {},
   "outputs": [],
   "source": [
    "# 约束函数 判断lst中的点是否在同一斜线上, 如果在,返回False\n",
    "# lst是一个列表, 用序号index作为横坐标, 对应的值lst[index]作为纵坐标\n",
    "# 例如 [1, 3]代表点集(0, 1) (1, 3)\n",
    "def constraint(lst):\n",
    "    length = len(lst)\n",
    "    for i in range(length-1):\n",
    "        for j in range(i+1, length):\n",
    "            if abs(i-j) == abs(lst[i]-lst[j]):\n",
    "                return False\n",
    "    return True\n",
    "\n",
    "\n",
    "# 回溯函数\n",
    "# n 棋盘的大小 n*n\n",
    "# nums 表示纵坐标可选的值\n",
    "# lst 表示已经选择的皇后的坐标\n",
    "def backtracing(n, nums, lst):\n",
    "    if len(nums) == 0:  # 当纵坐标没有值时, 输出\n",
    "        for x, y in enumerate(lst):\n",
    "            print(x, y)\n",
    "        print()\n",
    "    else:\n",
    "        for i in nums:  # 不断尝试可能的纵坐标\n",
    "            temo_lst = [x for x in lst]\n",
    "            temo_lst.append(i)\n",
    "            if constraint(temo_lst):  # 满足约束的选取下一个坐标\n",
    "                temp_nums = [e for e in nums if e not in temo_lst]\n",
    "                backtracing(n, temp_nums, temo_lst)"
   ]
  },
  {
   "cell_type": "code",
   "execution_count": 13,
   "metadata": {},
   "outputs": [
    {
     "output_type": "stream",
     "name": "stdout",
     "text": "0 0\n1 2\n2 4\n3 1\n4 3\n\n0 0\n1 3\n2 1\n3 4\n4 2\n\n0 1\n1 3\n2 0\n3 2\n4 4\n\n0 1\n1 4\n2 2\n3 0\n4 3\n\n0 2\n1 0\n2 3\n3 1\n4 4\n\n0 2\n1 4\n2 1\n3 3\n4 0\n\n0 3\n1 0\n2 2\n3 4\n4 1\n\n0 3\n1 1\n2 4\n3 2\n4 0\n\n0 4\n1 1\n2 3\n3 0\n4 2\n\n0 4\n1 2\n2 0\n3 3\n4 1\n\n"
    }
   ],
   "source": [
    "J = 5\n",
    "Nums = [i for i in range(J)]\n",
    "backtracing(J, Nums, [])"
   ]
  },
  {
   "cell_type": "code",
   "execution_count": 6,
   "metadata": {},
   "outputs": [
    {
     "output_type": "stream",
     "name": "stdout",
     "text": "0 1\n1 3\n2 0\n3 2\n\n0 2\n1 0\n2 3\n3 1\n\n"
    }
   ],
   "source": [
    "N = 4\n",
    "Nums = [i for i in range(N)]\n",
    "backtracing(N, Nums, [])"
   ]
  },
  {
   "cell_type": "code",
   "execution_count": null,
   "metadata": {},
   "outputs": [],
   "source": []
  }
 ]
}