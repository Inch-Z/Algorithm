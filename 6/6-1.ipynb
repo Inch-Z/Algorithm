{
 "nbformat": 4,
 "nbformat_minor": 2,
 "metadata": {
  "language_info": {
   "name": "python",
   "codemirror_mode": {
    "name": "ipython",
    "version": 3
   },
   "version": "3.7.0-final"
  },
  "orig_nbformat": 2,
  "file_extension": ".py",
  "mimetype": "text/x-python",
  "name": "python",
  "npconvert_exporter": "python",
  "pygments_lexer": "ipython3",
  "version": 3,
  "kernelspec": {
   "name": "python37064bitbaseconda24c38771a7744f689cf6683cc835f426",
   "display_name": "Python 3.7.0 64-bit ('base': conda)"
  }
 },
 "cells": [
  {
   "cell_type": "code",
   "execution_count": 119,
   "metadata": {},
   "outputs": [],
   "source": [
    "class Min_Machine_Weight():\n",
    "    def backtrack(self,t,n,m,p,w,c,cur_weight, cur_price, cur_choose, min_weight,best_choose):\n",
    "    # 此处的t代表每一次遍历i供应商的零件\n",
    "    #    global cur_weight, cur_price, cur_choose, min_weight, p, w, c\n",
    "        if t == n:\n",
    "            # 遍历到叶子结点\n",
    "            if cur_weight[0] < min_weight[0]:\n",
    "                min_weight[0] = cur_weight[0]\n",
    "\n",
    "                for j in range(n):\n",
    "                    if cur_choose[j]==None:\n",
    "                        cur_choose[j]=0\n",
    "                    best_choose[j] = cur_choose[j]+1\n",
    "                return \n",
    "\n",
    "        else:\n",
    "            for i in range(m): # 遍历供应商\n",
    "                if cur_choose[t]==None:\n",
    "                    cur_choose[t]=0\n",
    "                cur_choose[t] = i\n",
    "                cur_weight[0] += w[t][i]\n",
    "                cur_price[0] += c[t][i]\n",
    "\n",
    "                if cur_weight[0] < min_weight[0] and cur_price[0] <= p:\n",
    "                    # 该供应商的重量小于局部最优解 同时价格满足要求 则遍历其子树\n",
    "                    self.backtrack(t+1,n,m,p,w,c,cur_weight, cur_price, cur_choose, min_weight,best_choose)\n",
    "\n",
    "                cur_weight[0] -= w[t][i]\n",
    "                cur_price[0] -= c[t][i]\n",
    "                cur_choose[t] = 0\n",
    "        return  (min_weight,best_choose)\n",
    "    def __init__(self,n,m,p,w,c):\n",
    "        best_choose = [None for i in range(n)]\n",
    "        cur_choose = [None]*1000\n",
    "        cur_weight = [0]\n",
    "        cur_price = [0]\n",
    "        min_weight = [10000]\n",
    "        min_weight,best_choose=self.backtrack(0,n,m,p,w,c,cur_weight, cur_price, cur_choose, min_weight,best_choose)\n",
    "        print('最小的重量是:%d'%min_weight[0])\n",
    "        print('最佳选择是:',best_choose)"
   ]
  },
  {
   "cell_type": "code",
   "execution_count": 120,
   "metadata": {},
   "outputs": [
    {
     "output_type": "stream",
     "name": "stdout",
     "text": "最小的重量是:4\n最佳选择是: [1, 3, 1]\n"
    },
    {
     "output_type": "execute_result",
     "data": {
      "text/plain": "<__main__.Min_Machine_Weight at 0x2595cfaa710>"
     },
     "metadata": {},
     "execution_count": 120
    }
   ],
   "source": [
    "# 限定: 假设有解\n",
    "n = 3 # 零件数量\n",
    "m = 3 # 供应商数量\n",
    "p = 4 # 不应超过的价格\n",
    "w = [[1,2,3], [3,2,1], [2,2,2]] # 供应商j处购得的部件 i 的重量\n",
    "c = [[1,2,3], [3,2,1], [2,2,2]] # 相应的价格\n",
    "\n",
    "Min_Machine_Weight(n,m,p,w,c)"
   ]
  },
  {
   "cell_type": "code",
   "execution_count": 121,
   "metadata": {},
   "outputs": [
    {
     "output_type": "stream",
     "name": "stdout",
     "text": "最小的重量是:10\n最佳选择是: [2, 2, 2, 2]\n"
    },
    {
     "output_type": "execute_result",
     "data": {
      "text/plain": "<__main__.Min_Machine_Weight at 0x2595cfe5a58>"
     },
     "metadata": {},
     "execution_count": 121
    }
   ],
   "source": [
    "# 限定: 假设有解\n",
    "n = 4 # 零件数量\n",
    "m = 3 # 供应商数量\n",
    "p = 10 # 不应超过的价格\n",
    "w = [[2,1,4], [3,2,3], [4,3,2],[5,4,1]] # 供应商j处购得的部件 i 的重量\n",
    "c = [[5,4,1],[4,3,2],[3,2,3],[2,1,4]] # 相应的价格\n",
    "\n",
    "Min_Machine_Weight(n,m,p,w,c)"
   ]
  },
  {
   "cell_type": "code",
   "execution_count": null,
   "metadata": {},
   "outputs": [],
   "source": []
  }
 ]
}