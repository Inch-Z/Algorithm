{
 "nbformat": 4,
 "nbformat_minor": 2,
 "metadata": {
  "language_info": {
   "name": "python",
   "codemirror_mode": {
    "name": "ipython",
    "version": 3
   },
   "version": "3.7.0-final"
  },
  "orig_nbformat": 2,
  "file_extension": ".py",
  "mimetype": "text/x-python",
  "name": "python",
  "npconvert_exporter": "python",
  "pygments_lexer": "ipython3",
  "version": 3,
  "kernelspec": {
   "name": "python37064bitbaseconda24c38771a7744f689cf6683cc835f426",
   "display_name": "Python 3.7.0 64-bit ('base': conda)"
  }
 },
 "cells": [
  {
   "cell_type": "code",
   "execution_count": 1,
   "metadata": {},
   "outputs": [
    {
     "output_type": "execute_result",
     "data": {
      "text/plain": "'\\nbag背包容量\\nx为物体数目\\na为物体单价\\n'"
     },
     "metadata": {},
     "execution_count": 1
    }
   ],
   "source": [
    "'''\n",
    "bag=bag_bulk\n",
    "a=[weight,value]\n",
    "'''"
   ]
  },
  {
   "cell_type": "code",
   "execution_count": 2,
   "metadata": {},
   "outputs": [],
   "source": [
    "class dptree1:\n",
    "    def __init__(self,a:list,bag:int):\n",
    "        temp=[[0]*(bag+1)]*(len(a)+1)\n",
    "        for i in range (1,len(a)):\n",
    "            for j in range (1,bag+1):\n",
    "                if j>=a[i][0]:\n",
    "                    temp[i][j]=max(temp[i-1][j],temp[i][j-a[i][0]]+a[i][1])\n",
    "                else:\n",
    "                    temp[i][j]=temp[i-1][j]\n",
    "        print(temp)\n",
    "        print(\"max=\",temp[len(a)][bag])"
   ]
  },
  {
   "cell_type": "code",
   "execution_count": 3,
   "metadata": {},
   "outputs": [
    {
     "output_type": "stream",
     "name": "stdout",
     "text": "[[0, 2, 5, 7, 10, 12, 15, 17, 20, 22, 25, 27, 30, 32, 35, 37], [0, 2, 5, 7, 10, 12, 15, 17, 20, 22, 25, 27, 30, 32, 35, 37], [0, 2, 5, 7, 10, 12, 15, 17, 20, 22, 25, 27, 30, 32, 35, 37], [0, 2, 5, 7, 10, 12, 15, 17, 20, 22, 25, 27, 30, 32, 35, 37], [0, 2, 5, 7, 10, 12, 15, 17, 20, 22, 25, 27, 30, 32, 35, 37]]\nmax= 37\n"
    },
    {
     "output_type": "execute_result",
     "data": {
      "text/plain": "<__main__.dptree1 at 0x1e8784ae1d0>"
     },
     "metadata": {},
     "execution_count": 3
    }
   ],
   "source": [
    "a=[\n",
    "    [],[2,5],[3,4],[1,2]\n",
    "]\n",
    "bag=15\n",
    "dptree1(a,bag)"
   ]
  },
  {
   "cell_type": "code",
   "execution_count": 4,
   "metadata": {},
   "outputs": [
    {
     "output_type": "stream",
     "name": "stdout",
     "text": "[[0, 1, 2, 5, 6, 10, 11, 12, 15, 16, 20, 21, 22, 25, 26, 30, 31, 32, 35, 36, 40, 41, 42, 45], [0, 1, 2, 5, 6, 10, 11, 12, 15, 16, 20, 21, 22, 25, 26, 30, 31, 32, 35, 36, 40, 41, 42, 45], [0, 1, 2, 5, 6, 10, 11, 12, 15, 16, 20, 21, 22, 25, 26, 30, 31, 32, 35, 36, 40, 41, 42, 45], [0, 1, 2, 5, 6, 10, 11, 12, 15, 16, 20, 21, 22, 25, 26, 30, 31, 32, 35, 36, 40, 41, 42, 45], [0, 1, 2, 5, 6, 10, 11, 12, 15, 16, 20, 21, 22, 25, 26, 30, 31, 32, 35, 36, 40, 41, 42, 45], [0, 1, 2, 5, 6, 10, 11, 12, 15, 16, 20, 21, 22, 25, 26, 30, 31, 32, 35, 36, 40, 41, 42, 45], [0, 1, 2, 5, 6, 10, 11, 12, 15, 16, 20, 21, 22, 25, 26, 30, 31, 32, 35, 36, 40, 41, 42, 45], [0, 1, 2, 5, 6, 10, 11, 12, 15, 16, 20, 21, 22, 25, 26, 30, 31, 32, 35, 36, 40, 41, 42, 45]]\nmax= 45\n"
    },
    {
     "output_type": "execute_result",
     "data": {
      "text/plain": "<__main__.dptree1 at 0x1e8784ae6d8>"
     },
     "metadata": {},
     "execution_count": 4
    }
   ],
   "source": [
    "b=[[],[2,2],[3,5],[4,5],[1,1],[5,10],[6,5]]\n",
    "bag=23\n",
    "dptree1(b,bag)"
   ]
  }
 ]
}