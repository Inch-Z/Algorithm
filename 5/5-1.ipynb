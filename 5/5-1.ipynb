{
 "nbformat": 4,
 "nbformat_minor": 2,
 "metadata": {
  "language_info": {
   "name": "python",
   "codemirror_mode": {
    "name": "ipython",
    "version": 3
   },
   "version": "3.7.0-final"
  },
  "orig_nbformat": 2,
  "file_extension": ".py",
  "mimetype": "text/x-python",
  "name": "python",
  "npconvert_exporter": "python",
  "pygments_lexer": "ipython3",
  "version": 3,
  "kernelspec": {
   "name": "python37064bitbaseconda24c38771a7744f689cf6683cc835f426",
   "display_name": "Python 3.7.0 64-bit ('base': conda)"
  }
 },
 "cells": [
  {
   "cell_type": "code",
   "execution_count": 249,
   "metadata": {},
   "outputs": [],
   "source": [
    "import time\n",
    "a=[\n",
    "    [7],\n",
    "    [3,8],\n",
    "    [8,1,0],\n",
    "    [2,7,4,4],\n",
    "    [4,5,2,6,5]\n",
    "  ]\n",
    "b=[\n",
    "    [11],\n",
    "    [18,0],\n",
    "    [18,5,11],\n",
    "    [18,19,6,18]\n",
    "  ]\n",
    "c=[[11]]"
   ]
  },
  {
   "cell_type": "code",
   "execution_count": 250,
   "metadata": {},
   "outputs": [],
   "source": [
    "class dptree:\n",
    "    def __init__(self,a:list):\n",
    "        result=[[] for i in range(len(a))]\n",
    "        result[0].append(a[0][0])\n",
    "        self.temp(a,result)\n",
    "    def temp(self,a:list,result:list):\n",
    "        for i in range(1,len(a)):\n",
    "            result[i].append(a[i][0]+result[i-1][0])\n",
    "            for j in range(1,len(a[i])-1):\n",
    "                result[i].append(max((a[i][j]+result[i-1][j-1]),(a[i][j]+result[i-1][j])))\n",
    "            result[i].append(a[i][-1]+result[i-1][-1])\n",
    "        print(max(result[-1]))"
   ]
  },
  {
   "cell_type": "code",
   "execution_count": 251,
   "metadata": {},
   "outputs": [
    {
     "output_type": "stream",
     "name": "stdout",
     "text": "[[11], [18, 0], [18, 5, 11], [18, 19, 6, 18]]\n66\n3.069999979743443e-05\n<__main__.dptree object at 0x0000025CE398EB38>\nC:\\ProgramData\\Anaconda3\\lib\\site-packages\\ipykernel_launcher.py:3: DeprecationWarning: time.clock has been deprecated in Python 3.3 and will be removed from Python 3.8: use time.perf_counter or time.process_time instead\n  This is separate from the ipykernel package so we can avoid doing imports until\nC:\\ProgramData\\Anaconda3\\lib\\site-packages\\ipykernel_launcher.py:7: DeprecationWarning: time.clock has been deprecated in Python 3.3 and will be removed from Python 3.8: use time.perf_counter or time.process_time instead\n  import sys\n"
    }
   ],
   "source": [
    "print(b)\n",
    "print(dptree(b))"
   ]
  }
 ]
}