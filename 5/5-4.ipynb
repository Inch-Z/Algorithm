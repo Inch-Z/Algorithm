{
 "nbformat": 4,
 "nbformat_minor": 2,
 "metadata": {
  "language_info": {
   "name": "python",
   "codemirror_mode": {
    "name": "ipython",
    "version": 3
   },
   "version": "3.7.0-final"
  },
  "orig_nbformat": 2,
  "file_extension": ".py",
  "mimetype": "text/x-python",
  "name": "python",
  "npconvert_exporter": "python",
  "pygments_lexer": "ipython3",
  "version": 3,
  "kernelspec": {
   "name": "python37064bitbaseconda24c38771a7744f689cf6683cc835f426",
   "display_name": "Python 3.7.0 64-bit ('base': conda)"
  }
 },
 "cells": [
  {
   "cell_type": "code",
   "execution_count": 73,
   "metadata": {},
   "outputs": [],
   "source": [
    "class dpcharge:\n",
    "    def __init__(self,T:list,Coins:list,money:int):\n",
    "        n=len(Coins)\n",
    "        bag=[99999999 for i in range(money+1)]\n",
    "        bag[0]=0\n",
    "        for i in range(1,n):\n",
    "            for j in range(1,Coins[i]+1):\n",
    "                for k in range(m,T[i]-1,-1):\n",
    "                    bag[k]=min(bag[k],bag[k-T[i]]+1)\n",
    "        if bag[m]<m:\n",
    "            print('共需要',bag[m],'枚硬币')\n",
    "            self.tarceback(T,Coins,m,n)\n",
    "        else:print(\"Can't charge!\")\n",
    "        self.tarceback(T,Coins,m,n)\n",
    "    def tarceback(self,T,Coins,m,n):\n",
    "        temp=[0   for i in range(n)]\n",
    "        left=m\n",
    "        for i in range(n-1,0,-1):\n",
    "            while temp[i]<Coins[i] and left>=T[i]:\n",
    "                temp[i]+=1\n",
    "                left-=T[i]\n",
    "        for i in range(1,n):\n",
    "            print(T[i],'元',temp[i],'张')"
   ]
  },
  {
   "cell_type": "code",
   "execution_count": 74,
   "metadata": {},
   "outputs": [
    {
     "output_type": "stream",
     "name": "stdout",
     "text": "共需要 5 枚硬币\n1 元 1 张\n2 元 1 张\n5 元 3 张\n1 元 1 张\n2 元 1 张\n5 元 3 张\n"
    },
    {
     "output_type": "execute_result",
     "data": {
      "text/plain": "<__main__.dpcharge at 0x20c2ebe7ba8>"
     },
     "metadata": {},
     "execution_count": 74
    }
   ],
   "source": [
    "Coins=[0,3,3,3]\n",
    "T=[0,1,2,5]\n",
    "m=18\n",
    "dpcharge(T,Coins,m)"
   ]
  },
  {
   "cell_type": "code",
   "execution_count": 75,
   "metadata": {},
   "outputs": [
    {
     "output_type": "stream",
     "name": "stdout",
     "text": "共需要 16 枚硬币\n1 元 1 张\n2 元 11 张\n5 元 4 张\n1 元 1 张\n2 元 11 张\n5 元 4 张\n"
    },
    {
     "output_type": "execute_result",
     "data": {
      "text/plain": "<__main__.dpcharge at 0x20c2ebe7320>"
     },
     "metadata": {},
     "execution_count": 75
    }
   ],
   "source": [
    "Coins=[0,9,15,4]\n",
    "T=[0,1,2,5]\n",
    "m=43\n",
    "dpcharge(T,Coins,m)"
   ]
  }
 ]
}