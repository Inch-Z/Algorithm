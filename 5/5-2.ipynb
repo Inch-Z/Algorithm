{
 "nbformat": 4,
 "nbformat_minor": 2,
 "metadata": {
  "language_info": {
   "name": "python",
   "codemirror_mode": {
    "name": "ipython",
    "version": 3
   },
   "version": "3.7.0-final"
  },
  "orig_nbformat": 2,
  "file_extension": ".py",
  "mimetype": "text/x-python",
  "name": "python",
  "npconvert_exporter": "python",
  "pygments_lexer": "ipython3",
  "version": 3,
  "kernelspec": {
   "name": "python37064bitbaseconda24c38771a7744f689cf6683cc835f426",
   "display_name": "Python 3.7.0 64-bit ('base': conda)"
  }
 },
 "cells": [
  {
   "cell_type": "code",
   "execution_count": 217,
   "metadata": {},
   "outputs": [
    {
     "output_type": "execute_result",
     "data": {
      "text/plain": "'\\na [weight,bulk,val,choose]\\n'"
     },
     "metadata": {},
     "execution_count": 217
    }
   ],
   "source": [
    "'''\n",
    "a [weight,bulk,val,choose]\n",
    "'''\n",
    ""
   ]
  },
  {
   "cell_type": "code",
   "execution_count": 218,
   "metadata": {},
   "outputs": [],
   "source": [
    "class dptree:\n",
    "    def __init__(self,a:list,MAX_weight:int,MAX_bulk:int):\n",
    "        MAX_weight+=1\n",
    "        MAX_bulk+=1\n",
    "        Bag=[[[0 for i in range(MAX_weight+1)]for j in range(MAX_bulk+1)] for k in range(len(a))]\n",
    "        n=len(a)-1\n",
    "        for i in range(a[n][1],MAX_bulk+1):\n",
    "            for j in range(a[n][0],MAX_weight+1):\n",
    "                Bag[n][i][j]=a[n][2]\n",
    "        for i in range(len(a)-2,0,-1):\n",
    "            bulkmax=min(a[i][1]-1,MAX_bulk)\n",
    "            weightmax=min(a[i][0]-1,MAX_weight)\n",
    "            for j in range(1,bulkmax+1):\n",
    "                for w in range(1,MAX_weight+1):\n",
    "                    Bag[i][j][w]=Bag[i+1][j][w]\n",
    "            for j in range(bulkmax,MAX_bulk+1):\n",
    "                for w in range(1,weightmax+1):\n",
    "                    Bag[i][j][w]=Bag[i+1][j][w]\n",
    "            for j in range(a[i][1],MAX_bulk):\n",
    "                for w in range(a[i][0],MAX_weight):\n",
    "                    Bag[i][j][w]=max(Bag[i+1][j][w],Bag[i+1][j-a[i][1]][w-a[i][0]]+a[i][2])\n",
    "        print(\"max=\",Bag[1][MAX_bulk-1][MAX_weight-1])\n",
    "        self.traceback(Bag,a,MAX_bulk,MAX_weight,n)\n",
    "    def traceback(self,Bag:list,a:list,MAX_bulk,MAX_weight,n):\n",
    "        for i in range(1,len(a)-1):\n",
    "            if Bag[i][MAX_bulk-1][MAX_weight-1]==Bag[i+1][MAX_bulk-1][MAX_weight-1]:\n",
    "                a[i][3]=False\n",
    "            else:\n",
    "                a[i][3]=True\n",
    "                MAX_bulk-=a[i][1]\n",
    "                MAX_weight-=a[i][0]\n",
    "        if Bag[n][MAX_bulk][MAX_weight]>0:\n",
    "            a[n][3]=True\n",
    "        else:\n",
    "            a[n][3]=False\n",
    "        print(a)    "
   ]
  },
  {
   "cell_type": "code",
   "execution_count": 219,
   "metadata": {},
   "outputs": [
    {
     "output_type": "execute_result",
     "data": {
      "text/plain": "'\\n   void traceBack(int[][][]m, int[] x, int[]vol, int[]wei, int n, int maxVol, int maxWei) {\\n       for(int i = 1; i < n; i ++) {\\n           if(m[i][maxVol][maxWei] == m[i+1][maxVol][maxWei]) x[i] = 0;\\n           else {\\n               x[i] = 1;\\n               maxVol -= vol[i];\\n               maxWei -= wei[i];\\n           }\\n       }\\n       x[n] = (m[n][maxVol][maxWei] > 0)? 1: 0;\\n   }\\n   '"
     },
     "metadata": {},
     "execution_count": 219
    }
   ],
   "source": [
    " '''\n",
    "    void traceBack(int[][][]m, int[] x, int[]vol, int[]wei, int n, int maxVol, int maxWei) {\n",
    "        for(int i = 1; i < n; i ++) {\n",
    "            if(m[i][maxVol][maxWei] == m[i+1][maxVol][maxWei]) x[i] = 0;\n",
    "            else {\n",
    "                x[i] = 1;\n",
    "                maxVol -= vol[i];\n",
    "                maxWei -= wei[i];\n",
    "            }\n",
    "        }\n",
    "        x[n] = (m[n][maxVol][maxWei] > 0)? 1: 0;\n",
    "    }\n",
    "    '''"
   ]
  },
  {
   "cell_type": "code",
   "execution_count": 220,
   "metadata": {},
   "outputs": [
    {
     "output_type": "stream",
     "name": "stdout",
     "text": "max= 17\n[[], [2, 3, 6, True], [1, 4, 5, False], [4, 6, 7, False], [4, 2, 8, True], [1, 1, 3, True]]\n"
    },
    {
     "output_type": "execute_result",
     "data": {
      "text/plain": "<__main__.dptree at 0x29809f9de10>"
     },
     "metadata": {},
     "execution_count": 220
    }
   ],
   "source": [
    "a=[\n",
    "    [],\n",
    "    [2,3,6,None],\n",
    "    [1,4,5,None],\n",
    "    [4,6,7,None],\n",
    "    [4,2,8,None],\n",
    "    [1,1,3,None],\n",
    "   \n",
    "]\n",
    "Bag_Weight_a=8\n",
    "Bag_Bulk_a=7\n",
    "dptree(a,Bag_Weight_a,Bag_Bulk_a)"
   ]
  },
  {
   "cell_type": "code",
   "execution_count": 221,
   "metadata": {},
   "outputs": [
    {
     "output_type": "stream",
     "name": "stdout",
     "text": "max= 6\n[[], [4, 4, 5, True], [3, 3, 2, False], [2, 2, 1, True]]\n"
    },
    {
     "output_type": "execute_result",
     "data": {
      "text/plain": "<__main__.dptree at 0x29809f9dcf8>"
     },
     "metadata": {},
     "execution_count": 221
    }
   ],
   "source": [
    "b=[\n",
    "    [],\n",
    "    [4,4,5,None],\n",
    "    [3,3,2,None],\n",
    "    [2,2,1,None],\n",
    "   \n",
    "]\n",
    "Bag_Weight_b=6\n",
    "Bag_Bulk_b=6\n",
    "dptree(b,Bag_Weight_b,Bag_Bulk_b)"
   ]
  }
 ]
}