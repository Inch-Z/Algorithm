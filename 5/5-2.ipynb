{
 "nbformat": 4,
 "nbformat_minor": 2,
 "metadata": {
  "language_info": {
   "name": "python",
   "codemirror_mode": {
    "name": "ipython",
    "version": 3
   },
   "version": "3.7.0-final"
  },
  "orig_nbformat": 2,
  "file_extension": ".py",
  "mimetype": "text/x-python",
  "name": "python",
  "npconvert_exporter": "python",
  "pygments_lexer": "ipython3",
  "version": 3,
  "kernelspec": {
   "name": "python37064bitbaseconda24c38771a7744f689cf6683cc835f426",
   "display_name": "Python 3.7.0 64-bit ('base': conda)"
  }
 },
 "cells": [
  {
   "cell_type": "code",
   "execution_count": 49,
   "metadata": {},
   "outputs": [],
   "source": [
    "from copy import deepcopy"
   ]
  },
  {
   "cell_type": "code",
   "execution_count": 50,
   "metadata": {},
   "outputs": [],
   "source": [
    "class dptree:\n",
    "    def __init__(self,a:list,MAX_weight:int,MAX_bulk:int):\n",
    "        Bag=[[[0]*(MAX_bulk+1)]*(MAX_weight+1)]*(len(a)+1)\n",
    "        a.sort(key=lambda x:x[0])\n",
    "        a_weight_up=deepcopy(a)\n",
    "        a.sort(key=lambda x:x[1])\n",
    "        a_bulk_up=deepcopy(a)\n",
    "        a.sort(key=lambda x:x[2])\n",
    "        a_val_up=deepcopy(a)\n",
    "        self.Assign(Bag,a,MAX_weight,MAX_bulk)\n",
    "    def Assign(self,Bag,a:list,MAX_weight,MAX_bulk):\n",
    "        print(a)\n",
    "        Bag_Now_Weight=0\n",
    "        Bag_Now_Bulk=0\n",
    "        Bag_Now_Val=0\n",
    "        for i in range(0,len(a)):\n",
    "            Bag_Now_Weight+=a[i][0]\n",
    "            Bag_Now_Bulk+=a[i][1]\n",
    "            Bag_Now_Val+=a[i][2]\n",
    "            a[i][3]=1\n",
    "        if Bag_Now_Bulk<=MAX_weight and Bag_Now_Weight<=MAX_bulk:\n",
    "            print('ALL IN','max=',Bag_Now_Val)\n",
    "        "
   ]
  },
  {
   "cell_type": "code",
   "execution_count": 51,
   "metadata": {},
   "outputs": [],
   "source": [
    "a=[\n",
    "    [1,2,3,0],\n",
    "    [4,5,6,0],\n",
    "    [7,8,9,0],\n",
    "    [3,1,1,0],\n",
    "    [6,5,4,0],\n",
    "    [9,8,7,0]\n",
    "]\n",
    "Bag_Weight=150\n",
    "Bag_Bulk=200"
   ]
  },
  {
   "cell_type": "code",
   "execution_count": 52,
   "metadata": {},
   "outputs": [
    {
     "output_type": "stream",
     "name": "stdout",
     "text": "[[3, 1, 1, 0], [1, 2, 3, 0], [6, 5, 4, 0], [4, 5, 6, 0], [9, 8, 7, 0], [7, 8, 9, 0]]\nALL IN max= 30\n"
    },
    {
     "output_type": "execute_result",
     "data": {
      "text/plain": "<__main__.dptree at 0x286fff2ac50>"
     },
     "metadata": {},
     "execution_count": 52
    }
   ],
   "source": [
    "dptree(a,Bag_Weight,Bag_Bulk)"
   ]
  },
  {
   "cell_type": "code",
   "execution_count": null,
   "metadata": {},
   "outputs": [],
   "source": []
  }
 ]
}