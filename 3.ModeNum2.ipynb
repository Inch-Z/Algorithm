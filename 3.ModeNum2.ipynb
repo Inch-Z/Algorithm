{
 "nbformat": 4,
 "nbformat_minor": 2,
 "metadata": {
  "language_info": {
   "name": "python",
   "codemirror_mode": {
    "name": "ipython",
    "version": 3
   },
   "version": "3.7.0-final"
  },
  "orig_nbformat": 2,
  "file_extension": ".py",
  "mimetype": "text/x-python",
  "name": "python",
  "npconvert_exporter": "python",
  "pygments_lexer": "ipython3",
  "version": 3,
  "kernelspec": {
   "name": "python37064bitbaseconda24c38771a7744f689cf6683cc835f426",
   "display_name": "Python 3.7.0 64-bit ('base': conda)"
  }
 },
 "cells": [
  {
   "cell_type": "code",
   "execution_count": 82,
   "metadata": {},
   "outputs": [],
   "source": [
    "import os\n",
    "PATH = \".\\\\\""
   ]
  },
  {
   "cell_type": "code",
   "execution_count": 83,
   "metadata": {},
   "outputs": [],
   "source": [
    "class ModeNum:\n",
    "    def Mode(self, most ,_max, a:list, l:int, r:int):\n",
    "        Max=_max[0]\n",
    "        Mosy=most[0]\n",
    "        mid = a[(l+r)//2]\n",
    "        end_mid = pr_mid = a.index(mid)\n",
    "        for i in range(pr_mid, len(a)):      #记录最后结束位\n",
    "            if a[i] == mid:\n",
    "                end_mid+=1\n",
    "            else:break\n",
    "        if Max == end_mid - pr_mid:\n",
    "            most.append(mid)\n",
    "        if Max < end_mid - pr_mid:\n",
    "            most = [-1]\n",
    "            Max = end_mid - pr_mid\n",
    "            Most = mid\n",
    "            _max[0]=Max\n",
    "            most[0]=Most\n",
    "        if pr_mid - l > Max:\n",
    "            self.Mode( most ,_max, a, l, pr_mid-1)\n",
    "        if r - end_mid > Max:\n",
    "            self.Mode(most ,_max,a, end_mid, r, )\n",
    "        return _max,most"
   ]
  },
  {
   "cell_type": "code",
   "execution_count": 84,
   "metadata": {},
   "outputs": [
    {
     "output_type": "stream",
     "name": "stdout",
     "text": "重数，众数 ([5], [27, 15, 23, 45])\n"
    }
   ],
   "source": [
    "f1 = open(PATH + \"3.ModeNum\", 'r', encoding='UTF-8')\n",
    "ls=[]\n",
    "for line in f1.readlines():\n",
    "    line = eval(line.strip('\\n'))\n",
    "    ls.append(line)\n",
    "ls.sort()\n",
    "a=ModeNum()\n",
    "_max = [-1]\n",
    "most = [-1]\n",
    "print(\"重数，众数\",a.Mode(most,_max,ls,0,99))"
   ]
  },
  {
   "cell_type": "code",
   "execution_count": null,
   "metadata": {},
   "outputs": [],
   "source": []
  }
 ]
}