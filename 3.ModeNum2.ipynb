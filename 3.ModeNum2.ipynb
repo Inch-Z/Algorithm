{
 "nbformat": 4,
 "nbformat_minor": 2,
 "metadata": {
  "language_info": {
   "name": "python",
   "codemirror_mode": {
    "name": "ipython",
    "version": 3
   },
   "version": "3.7.0-final"
  },
  "orig_nbformat": 2,
  "file_extension": ".py",
  "mimetype": "text/x-python",
  "name": "python",
  "npconvert_exporter": "python",
  "pygments_lexer": "ipython3",
  "version": 3,
  "kernelspec": {
   "name": "python37064bitbaseconda24c38771a7744f689cf6683cc835f426",
   "display_name": "Python 3.7.0 64-bit ('base': conda)"
  }
 },
 "cells": [
  {
   "cell_type": "code",
   "execution_count": 6,
   "metadata": {},
   "outputs": [],
   "source": [
    "import os\n",
    "PATH = \".\\\\\""
   ]
  },
  {
   "cell_type": "code",
   "execution_count": 7,
   "metadata": {},
   "outputs": [],
   "source": [
    "class ModeNum:\n",
    "    def Mode(self, a:list, l:int, r:int, most:int ,_max:int) -> tuple:\n",
    "        mid = a[(l+r)//2]\n",
    "        end_mid = pr_mid = a.index(mid)\n",
    "        for i in range(pr_mid, len(a)):      #记录最后结束位\n",
    "            if a[i] == mid:\n",
    "                end_mid+=1\n",
    "            else:break\n",
    "        if _max < end_mid - pr_mid:\n",
    "            _max = end_mid - pr_mid\n",
    "            most = mid\n",
    "        if pr_mid - l > _max:\n",
    "            self.Mode(a, l, pr_mid-1, most ,_max)\n",
    "        if r - end_mid > _max:\n",
    "            self.Mode(a, end_mid, r, most ,_max)\n",
    "        return _max, most"
   ]
  },
  {
   "cell_type": "code",
   "execution_count": 8,
   "metadata": {},
   "outputs": [
    {
     "output_type": "stream",
     "name": "stdout",
     "text": "重数，众数 (4, 26)\n"
    }
   ],
   "source": [
    "f1 = open(PATH + \"3.ModeNum\", 'r', encoding='UTF-8')\n",
    "ls=[]\n",
    "for line in f1.readlines():\n",
    "    line = eval(line.strip('\\n'))\n",
    "    ls.append(line)\n",
    "ls.sort()\n",
    "a=ModeNum()\n",
    "print(\"重数，众数\",a.Mode(ls,0,99,0,0))"
   ]
  }
 ]
}