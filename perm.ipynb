{
 "nbformat": 4,
 "nbformat_minor": 2,
 "metadata": {
  "language_info": {
   "name": "python",
   "codemirror_mode": {
    "name": "ipython",
    "version": 3
   },
   "version": "3.7.0-final"
  },
  "orig_nbformat": 2,
  "file_extension": ".py",
  "mimetype": "text/x-python",
  "name": "python",
  "npconvert_exporter": "python",
  "pygments_lexer": "ipython3",
  "version": 3,
  "kernelspec": {
   "name": "python37064bitbaseconda24c38771a7744f689cf6683cc835f426",
   "display_name": "Python 3.7.0 64-bit ('base': conda)"
  }
 },
 "cells": [
  {
   "cell_type": "code",
   "execution_count": 18,
   "metadata": {},
   "outputs": [],
   "source": [
    "def perm(ls,k,m):\n",
    "    if k==m:\n",
    "        print(ls)\n",
    "    else:\n",
    "        for i in range(k,m+1):\n",
    "            ls[k],ls[i]=ls[i],ls[k]\n",
    "            perm(ls,k+1,m)\n",
    "            ls[k],ls[i]=ls[i],ls[k]      "
   ]
  },
  {
   "cell_type": "code",
   "execution_count": 19,
   "metadata": {},
   "outputs": [
    {
     "name": "stdout",
     "output_type": "stream",
     "text": "[0, 1, 2]\n[0, 2, 1]\n[1, 0, 2]\n[1, 2, 0]\n[2, 1, 0]\n[2, 0, 1]\n"
    }
   ],
   "source": [
    "ls=[0,1,2]\n",
    "k=0\n",
    "m=2\n",
    "perm(ls,k,m)"
   ]
  }
 ]
}