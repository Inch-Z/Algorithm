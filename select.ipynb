{
 "nbformat": 4,
 "nbformat_minor": 2,
 "metadata": {
  "language_info": {
   "name": "python",
   "codemirror_mode": {
    "name": "ipython",
    "version": 3
   },
   "version": "3.7.0-final"
  },
  "orig_nbformat": 2,
  "file_extension": ".py",
  "mimetype": "text/x-python",
  "name": "python",
  "npconvert_exporter": "python",
  "pygments_lexer": "ipython3",
  "version": 3,
  "kernelspec": {
   "name": "python37064bitbaseconda24c38771a7744f689cf6683cc835f426",
   "display_name": "Python 3.7.0 64-bit ('base': conda)"
  }
 },
 "cells": [
  {
   "cell_type": "code",
   "execution_count": 57,
   "metadata": {
    "tags": [
     "outputPrepend"
    ]
   },
   "outputs": [],
   "source": [
    "import random\n",
    "import math"
   ]
  },
  {
   "cell_type": "code",
   "execution_count": 58,
   "metadata": {},
   "outputs": [],
   "source": [
    "class lineSelect:#\n",
    "    def partition(self,a:list,p:int,r:int,x:int) -> int:\n",
    "        low = [m for m in a if m < x]\n",
    "        high = [m for m in a if m > x]\n",
    "        a[p-1:r] = low + [x] + high \n",
    "        return len(low)\n",
    "\n",
    "    def median(self, a:list) -> int:\n",
    "        a.sort()\n",
    "        return a[(len(a)+1)//2 - 1]\n",
    "\n",
    "    def select(self,a:list,i:int) -> int:\n",
    "        if len(a) == 1:\n",
    "            return a[0]\n",
    "        groups = []\n",
    "        numOfGroups = int(math.ceil(len(a)*1.0//5))\n",
    "        start,end = 0,0\n",
    "        for j in range(0,numOfGroups-1):\n",
    "            start = j*5\n",
    "            end = start + 5\n",
    "            groups.append(a[start:end]) \n",
    "        groups.append(a[end:])\n",
    "        medians = []\n",
    "        for g in groups:\n",
    "            medians.append(self.median(g))\n",
    "        x = self.select(medians,(len(medians)+1)/2)\n",
    "        k = self.partition(a,1,len(a),x) + 1\n",
    "        if k == i :\n",
    "            return x \n",
    "        elif k > i :\n",
    "            return self.select(a[0:k],i) \n",
    "        else:\n",
    "            return self.select(a[k:],i-k)\n",
    "\n",
    "class Kselect(lineSelect):\n",
    "    def Ksort(self,a:list,k:int) -> int:\n",
    "        half = len(a)//2+1\n",
    "        solve_pr=[]\n",
    "        solve_af=[]\n",
    "        Mid=self.select(a,half)\n",
    "        print(\"中位数是：\",Mid)\n",
    "        for i in range(1,k+1):\n",
    "            solve_af.append(self.select(a,half+i))\n",
    "            solve_pr.append(self.select(a,half-i))\n",
    "        i, j,f = 0, 0, 0\n",
    "        while f<k:\n",
    "            if solve_af[i]-Mid < Mid-solve_pr[j]:\n",
    "                print(solve_af[i])\n",
    "                i+=1\n",
    "            else:\n",
    "                print(solve_pr[j])\n",
    "                j+=1\n",
    "            f+=1"
   ]
  },
  {
   "cell_type": "code",
   "execution_count": 59,
   "metadata": {},
   "outputs": [
    {
     "output_type": "stream",
     "name": "stdout",
     "text": "[26, 5, 93, 80, 50, 85, 62, 38, 10, 14, 45, 7, 74, 8, 92, 23, 52, 0, 11, 40, 79]\n中位数是： 40\n38\n45\n50\n52\n[0, 5, 7, 8, 10, 11, 14, 23, 26, 38, 40, 45, 50, 52, 62, 74, 79, 80, 85, 92, 93]\n"
    }
   ],
   "source": [
    "for i in range(10000):\n",
    "    quiz = random.sample(range(100), 21)\n",
    "print(quiz)\n",
    "ans = Kselect()\n",
    "ans.Ksort(quiz,4)\n",
    "quiz.sort()\n",
    "print(quiz)"
   ]
  },
  {
   "cell_type": "code",
   "execution_count": 60,
   "metadata": {},
   "outputs": [
    {
     "output_type": "stream",
     "name": "stdout",
     "text": "0\n"
    }
   ],
   "source": [
    "solve=[[] for j in range (5)]\n",
    "print(len(solve[1]))"
   ]
  },
  {
   "cell_type": "code",
   "execution_count": null,
   "metadata": {},
   "outputs": [],
   "source": []
  }
 ]
}