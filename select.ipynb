{
 "nbformat": 4,
 "nbformat_minor": 2,
 "metadata": {
  "language_info": {
   "name": "python",
   "codemirror_mode": {
    "name": "ipython",
    "version": 3
   },
   "version": "3.7.0-final"
  },
  "orig_nbformat": 2,
  "file_extension": ".py",
  "mimetype": "text/x-python",
  "name": "python",
  "npconvert_exporter": "python",
  "pygments_lexer": "ipython3",
  "version": 3,
  "kernelspec": {
   "name": "python37064bitbaseconda24c38771a7744f689cf6683cc835f426",
   "display_name": "Python 3.7.0 64-bit ('base': conda)"
  }
 },
 "cells": [
  {
   "cell_type": "code",
   "execution_count": 46,
   "metadata": {
    "tags": [
     "outputPrepend"
    ]
   },
   "outputs": [],
   "source": [
    "import random\n",
    "import math"
   ]
  },
  {
   "cell_type": "code",
   "execution_count": 47,
   "metadata": {},
   "outputs": [],
   "source": [
    "class lineSelect:#\n",
    "    def partition(self,a:list,p:int,r:int,x:int) -> int:\n",
    "        low = [m for m in a if m < x]\n",
    "        high = [m for m in a if m > x]\n",
    "        a[p-1:r] = low + [x] + high \n",
    "        return len(low)\n",
    "\n",
    "    def median(self, a:list) -> int:\n",
    "        a.sort()\n",
    "        return a[(len(a)+1)//2 - 1]\n",
    "\n",
    "    def select(self,a:list,i:int) -> int:\n",
    "        if len(a) == 1:\n",
    "            return a[0]\n",
    "        groups = []\n",
    "        numOfGroups = int(math.ceil(len(a)*1.0//5))\n",
    "        start,end = 0,0\n",
    "        for j in range(0,numOfGroups-1):\n",
    "            start = j*5\n",
    "            end = start + 5\n",
    "            groups.append(a[start:end]) \n",
    "        groups.append(a[end:])\n",
    "        medians = []\n",
    "        for g in groups:\n",
    "            medians.append(self.median(g))\n",
    "        x = self.select(medians,(len(medians)+1)/2)\n",
    "        k = self.partition(a,1,len(a),x) + 1\n",
    "        if k == i :\n",
    "            return x \n",
    "        elif k > i :\n",
    "            return self.select(a[0:k],i) \n",
    "        else:\n",
    "            return self.select(a[k:],i-k)"
   ]
  },
  {
   "cell_type": "code",
   "execution_count": 48,
   "metadata": {},
   "outputs": [],
   "source": [
    "for i in range(10000):\n",
    "    quiz = random.sample(range(100), 21)"
   ]
  },
  {
   "cell_type": "code",
   "execution_count": null,
   "metadata": {},
   "outputs": [],
   "source": []
  }
 ]
}