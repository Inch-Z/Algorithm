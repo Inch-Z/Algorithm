{
 "nbformat": 4,
 "nbformat_minor": 2,
 "metadata": {
  "language_info": {
   "name": "python",
   "codemirror_mode": {
    "name": "ipython",
    "version": 3
   },
   "version": "3.7.0-final"
  },
  "orig_nbformat": 2,
  "file_extension": ".py",
  "mimetype": "text/x-python",
  "name": "python",
  "npconvert_exporter": "python",
  "pygments_lexer": "ipython3",
  "version": 3,
  "kernelspec": {
   "name": "python37064bitbaseconda24c38771a7744f689cf6683cc835f426",
   "display_name": "Python 3.7.0 64-bit ('base': conda)"
  }
 },
 "cells": [
  {
   "cell_type": "code",
   "execution_count": 6,
   "metadata": {},
   "outputs": [
    {
     "output_type": "stream",
     "name": "stdout",
     "text": "1\n3\n"
    }
   ],
   "source": [
    "'''\n",
    "O(nlogn)\n",
    "用快排的方法，选定pivot然后通过左右两个分组递归得出结果\n",
    "'''\n",
    "# 划分\n",
    "def partition(nums=list):\n",
    "    pi = nums[0]\n",
    "    lo = [x for x in nums if x < pi]\n",
    "    hi = [x for x in nums if x >= pi]\n",
    "    return lo,pi,hi\n",
    "\n",
    "# 查找第 k 小的元素\n",
    "def select(nums,key):\n",
    "    #分解\n",
    "    lo,pi,hi = partition(nums)\n",
    "\n",
    "    n = len(lo) \n",
    "    #解决\n",
    "    if n == key:\n",
    "        return pi\n",
    "    #递归分治\n",
    "    elif n < key:\n",
    "        return select(hi,key-n-1)\n",
    "    #递归分治\n",
    "    else:\n",
    "        return select(lo,key)\n",
    "\n",
    "if __name__ == '__main__':\n",
    "    lis = [3, 4, 1, 6, 3, 7, 9, 13, 93, 0, 100, 1, 2, 2, 3, 3, 2]\n",
    "    print(select(lis,3))#2\n",
    "    print(select(lis,10))#4"
   ]
  }
 ]
}