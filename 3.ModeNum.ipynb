{
 "nbformat": 4,
 "nbformat_minor": 2,
 "metadata": {
  "language_info": {
   "name": "python",
   "codemirror_mode": {
    "name": "ipython",
    "version": 3
   },
   "version": "3.7.0-final"
  },
  "orig_nbformat": 2,
  "file_extension": ".py",
  "mimetype": "text/x-python",
  "name": "python",
  "npconvert_exporter": "python",
  "pygments_lexer": "ipython3",
  "version": 3,
  "kernelspec": {
   "name": "python37064bitbaseconda24c38771a7744f689cf6683cc835f426",
   "display_name": "Python 3.7.0 64-bit ('base': conda)"
  }
 },
 "cells": [
  {
   "cell_type": "code",
   "execution_count": 31,
   "metadata": {},
   "outputs": [],
   "source": [
    "import random as Rd\n",
    "PATH = \".\\\\\""
   ]
  },
  {
   "cell_type": "code",
   "execution_count": 32,
   "metadata": {},
   "outputs": [],
   "source": [
    "class ModeNum:\n",
    "    def Creatdata():\n",
    "        f = open(PATH + \"3.ModeNum\", 'w', encoding='UTF-8')\n",
    "        for i in range(99):\n",
    "            f.write(str(Rd.randint(10,50)) + '\\n')\n",
    "        f.close()\n",
    "\n",
    "    def Select(dict):\n",
    "        f1 = open(PATH + \"3.ModeNum\", 'r', encoding='UTF-8')\n",
    "        list = f1.readlines()\n",
    "        for i in range(len(list)):\n",
    "            if list[i] in dict:\n",
    "                dict[list[i]] += 1\n",
    "            else:\n",
    "                dict[list[i]] = 1\n",
    "\n",
    "    def Search(dict, result, _max):\n",
    "        _max = str(max(dict.keys(), key=(lambda x:dict[x])))\n",
    "        result = \"\"\n",
    "        for i in dict:\n",
    "            if dict[i] == dict[_max]:\n",
    "                result += (str(eval(i)) + \" \")\n",
    "        print(\"众数：\" + result + \"重数：\" + str(dict[_max]) + \"\\n\")\n",
    "    def main(self, dict, result, _max):\n",
    "        ModeNum.Creatdata()\n",
    "        ModeNum.Select(dict)\n",
    "        ModeNum.Search(dict, result, _max)"
   ]
  },
  {
   "cell_type": "code",
   "execution_count": 33,
   "metadata": {},
   "outputs": [
    {
     "output_type": "stream",
     "name": "stdout",
     "text": "众数：45 23 18 14 重数：5\n\n"
    }
   ],
   "source": [
    "num = ModeNum()\n",
    "num.dict = {}\n",
    "num.result = \"\"\n",
    "num._max=\"\"\n",
    "num.main(num.dict, num.result, num._max)"
   ]
  }
 ]
}