{
 "nbformat": 4,
 "nbformat_minor": 2,
 "metadata": {
  "language_info": {
   "name": "python",
   "codemirror_mode": {
    "name": "ipython",
    "version": 3
   },
   "version": "3.7.0-final"
  },
  "orig_nbformat": 2,
  "file_extension": ".py",
  "mimetype": "text/x-python",
  "name": "python",
  "npconvert_exporter": "python",
  "pygments_lexer": "ipython3",
  "version": 3,
  "kernelspec": {
   "name": "python37064bitbaseconda24c38771a7744f689cf6683cc835f426",
   "language": "python",
   "display_name": "Python 3.7.0 64-bit ('base': conda)"
  },
  "pycharm": {
   "stem_cell": {
    "cell_type": "raw",
    "source": [],
    "metadata": {
     "collapsed": false
    }
   }
  }
 },
 "cells": [
  {
   "cell_type": "code",
   "execution_count": 9,
   "metadata": {},
   "outputs": [],
   "source": [
    "class Meeting:\n",
    "    def insort(self)->list:        \n",
    "        meet=[[4, 7, -1], [2, 5, -1], [8, 10, -1], [6, 18, -1]]\n",
    "        n = len(meet)\n",
    "#        n=eval(input('请输入活动数:'))\n",
    "#        meet=[[-1]*3 for i in range (n)]\n",
    "#        for i in range(n):\n",
    "#            meet[i][0]=eval(input('start'))\n",
    "#            meet[i][1]=eval(input('end'))\n",
    "#            meet[i][2]=-1\n",
    "        meet.sort(key=(lambda x:x[0]))\n",
    "        j=1\n",
    "        while j<=n:\n",
    "            end=0\n",
    "            for i in range(n):\n",
    "                if meet[i][0]>=end and meet[i][2]==-1:\n",
    "                    meet[i][2]=j\n",
    "                    end=meet[i][1]\n",
    "                else:continue\n",
    "            j+=1\n",
    "        print(meet)\n",
    "        meet.sort(key=lambda x:x[2])\n",
    "        print(meet)\n",
    "        j=1\n",
    "        i=0\n",
    "        while j<=meet[n-1][2]:\n",
    "            print('Room',j)\n",
    "            while i < n:\n",
    "                if j==meet[i][2]:\n",
    "                    print((meet[i][0],meet[i][1]))      \n",
    "                else:\n",
    "                    break\n",
    "                i+=1\n",
    "            j+=1"
   ]
  },
  {
   "cell_type": "code",
   "execution_count": 10,
   "metadata": {
    "tags": [
     "outputPrepend",
     "outputPrepend",
     "outputPrepend",
     "outputPrepend",
     "outputPrepend",
     "outputPrepend",
     "outputPrepend",
     "outputPrepend",
     "outputPrepend",
     "outputPrepend",
     "outputPrepend",
     "outputPrepend",
     "outputPrepend",
     "outputPrepend",
     "outputPrepend",
     "outputPrepend"
    ]
   },
   "outputs": [
    {
     "output_type": "stream",
     "name": "stdout",
     "text": "[[2, 5, 1], [4, 7, 2], [6, 18, 1], [6, 18, 3], [8, 10, 2]]\n[[2, 5, 1], [6, 18, 1], [4, 7, 2], [8, 10, 2], [6, 18, 3]]\nRoom 1\n(2, 5)\n(6, 18)\nRoom 2\n(4, 7)\n(8, 10)\nRoom 3\n(6, 18)\n"
    }
   ],
   "source": [
    "a=Meeting()\n",
    "a.insort()"
   ]
  },
  {
   "cell_type": "code",
   "execution_count": null,
   "metadata": {},
   "outputs": [],
   "source": []
  }
 ]
}