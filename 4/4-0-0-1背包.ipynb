{
 "nbformat": 4,
 "nbformat_minor": 2,
 "metadata": {
  "language_info": {
   "name": "python",
   "codemirror_mode": {
    "name": "ipython",
    "version": 3
   },
   "version": "3.7.0-final"
  },
  "orig_nbformat": 2,
  "file_extension": ".py",
  "mimetype": "text/x-python",
  "name": "python",
  "npconvert_exporter": "python",
  "pygments_lexer": "ipython3",
  "version": 3,
  "kernelspec": {
   "name": "python37064bitbaseconda24c38771a7744f689cf6683cc835f426",
   "display_name": "Python 3.7.0 64-bit ('base': conda)"
  }
 },
 "cells": [
  {
   "cell_type": "code",
   "execution_count": 85,
   "metadata": {},
   "outputs": [
    {
     "output_type": "execute_result",
     "data": {
      "text/plain": "'\\n[[23,100],[24,99],[25,26],[27,25],[100,1]]\\n'"
     },
     "metadata": {},
     "execution_count": 85
    }
   ],
   "source": [
    "'''\n",
    "[[23,100],[24,99],[25,26],[27,25],[100,1]]\n",
    "'''"
   ]
  },
  {
   "cell_type": "code",
   "execution_count": 86,
   "metadata": {},
   "outputs": [],
   "source": [
    "class Goods:\n",
    "    def __init__(self,weight:float,wealth:float):\n",
    "        self.weight=weight\n",
    "        self.wealth=wealth"
   ]
  },
  {
   "cell_type": "code",
   "execution_count": 87,
   "metadata": {},
   "outputs": [],
   "source": [
    "class wbag:\n",
    "    def __init__(self,a:list,n:int):\n",
    "        wealth,weight=0,0\n",
    "        for i in range (len(a)):\n",
    "            weight+=a[i].weight\n",
    "        if weight>=n:\n",
    "            print(\"全部装上\")\n",
    "            return None\n",
    "        a.sort(key =lambda x:x.wealth,reverse=True)\n",
    "        self.Assign(a,n,weight,wealth)\n",
    "    def Assign(self,a:list,n:float,weight:float,wealth:float):\n",
    "        bag=[]\n",
    "        for i in range (len(a)):\n",
    "            bag.append(a[i])\n",
    "            n-=a[i].weight\n",
    "            if n < 0:\n",
    "                n+=bag[-1].weight\n",
    "                bag.pop()\n",
    "                break\n",
    "        for i in range(len(bag)):\n",
    "            print(\"重量:\",bag[i].weight,\"价值:\",bag[i].wealth)\n",
    "            weight+=bag[i].weight\n",
    "            wealth+=bag[i].wealth\n",
    "        print(\"总价值:\",wealth,\"重质量:\",weight)"
   ]
  },
  {
   "cell_type": "code",
   "execution_count": 88,
   "metadata": {},
   "outputs": [
    {
     "output_type": "stream",
     "name": "stdout",
     "text": "重量: 23 价值: 100\n重量: 24 价值: 99\n重量: 25 价值: 26\n重量: 27 价值: 25\n总价值: 250 重质量: 99\n"
    }
   ],
   "source": [
    "a=[[23,100],[24,99],[25,26],[27,25],[100,1]]\n",
    "b=[]\n",
    "for i in range(len(a)):\n",
    "    c=Goods(a[i][0],a[i][1])\n",
    "    b.append(c)\n",
    "Q=wbag(b,120)"
   ]
  }
 ]
}