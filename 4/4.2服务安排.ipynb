{
 "nbformat": 4,
 "nbformat_minor": 2,
 "metadata": {
  "language_info": {
   "name": "python",
   "codemirror_mode": {
    "name": "ipython",
    "version": 3
   },
   "version": "3.7.0-final"
  },
  "orig_nbformat": 2,
  "file_extension": ".py",
  "mimetype": "text/x-python",
  "name": "python",
  "npconvert_exporter": "python",
  "pygments_lexer": "ipython3",
  "version": 3,
  "kernelspec": {
   "name": "python37064bitbaseconda24c38771a7744f689cf6683cc835f426",
   "display_name": "Python 3.7.0 64-bit ('base': conda)"
  }
 },
 "cells": [
  {
   "cell_type": "code",
   "execution_count": 5,
   "metadata": {},
   "outputs": [],
   "source": [
    "class custom:\n",
    "    def __init__(self,a:list,n:int):\n",
    "        print(a)\n",
    "        if n>=len(a):\n",
    "            print(sum(a)/len(a))\n",
    "            print('无需等待')\n",
    "            return None\n",
    "        a.sort()\n",
    "        self.Assign(a,n)\n",
    "    def Assign(self,a:list,n:int):\n",
    "        res=[[] for i in range(n)]\n",
    "        ti=[0]*n\n",
    "        for i in range(len(a)):\n",
    "            res[ti.index(min(ti))].append(a[i])\n",
    "            ti[ti.index(min(ti))]+=a[i]\n",
    "            ans=0 \n",
    "        for i in range(len(res)):\n",
    "            for j in range(len(res[i])):\n",
    "                ans+=res[i][j]*(len(res[i])-j)/len(a)\n",
    "                print(ans)\n",
    "                "
   ]
  },
  {
   "cell_type": "code",
   "execution_count": 6,
   "metadata": {},
   "outputs": [
    {
     "output_type": "error",
     "ename": "SyntaxError",
     "evalue": "unexpected EOF while parsing (<string>, line 0)",
     "traceback": [
      "Traceback \u001b[1;36m(most recent call last)\u001b[0m:\n",
      "  File \u001b[0;32m\"C:\\ProgramData\\Anaconda3\\lib\\site-packages\\IPython\\core\\interactiveshell.py\"\u001b[0m, line \u001b[0;32m2961\u001b[0m, in \u001b[0;35mrun_code\u001b[0m\n    exec(code_obj, self.user_global_ns, self.user_ns)\n",
      "\u001b[1;36m  File \u001b[1;32m\"<ipython-input-6-8124a6fff8c4>\"\u001b[1;36m, line \u001b[1;32m2\u001b[1;36m, in \u001b[1;35m<module>\u001b[1;36m\u001b[0m\n\u001b[1;33m    x=eval(input(\"请输入顾客人数：\"))\u001b[0m\n",
      "\u001b[1;36m  File \u001b[1;32m\"<string>\"\u001b[1;36m, line \u001b[1;32munknown\u001b[0m\n\u001b[1;33m    \u001b[0m\n\u001b[1;37m    ^\u001b[0m\n\u001b[1;31mSyntaxError\u001b[0m\u001b[1;31m:\u001b[0m unexpected EOF while parsing\n"
     ]
    }
   ],
   "source": [
    "a=[] \n",
    "x=eval(input(\"请输入顾客人数：\"))\n",
    "for i in range(x):\n",
    "    a.append(eval(input(\"请输入服务时长：\")))\n",
    "n=eval(input(\"请输入柜台数：\"))\n",
    "b=custom(a,n)"
   ]
  }
 ]
}