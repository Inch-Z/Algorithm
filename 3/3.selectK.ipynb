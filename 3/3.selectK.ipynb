{
 "nbformat": 4,
 "nbformat_minor": 2,
 "metadata": {
  "language_info": {
   "name": "python",
   "codemirror_mode": {
    "name": "ipython",
    "version": 3
   },
   "version": "3.7.0-final"
  },
  "orig_nbformat": 2,
  "file_extension": ".py",
  "mimetype": "text/x-python",
  "name": "python",
  "npconvert_exporter": "python",
  "pygments_lexer": "ipython3",
  "version": 3,
  "kernelspec": {
   "name": "python3",
   "language": "python",
   "display_name": "Python 3"
  }
 },
 "cells": [
  {
   "cell_type": "code",
   "execution_count": 115,
   "metadata": {
    "tags": [
     "outputPrepend"
    ],
    "pycharm": {
     "is_executing": false
    }
   },
   "outputs": [],
   "source": [
    "import random\n",
    "import math\n",
    "import copy"
   ]
  },
  {
   "cell_type": "code",
   "execution_count": 116,
   "metadata": {
    "pycharm": {
     "is_executing": false
    }
   },
   "outputs": [],
   "source": [
    "class lineSelect:\n",
    "    def partition(self,a:list,p:int,r:int,x:int) -> int:\n",
    "        low = [m for m in a if m < x]\n",
    "        high = [m for m in a if m > x]\n",
    "        a[p-1:r] = low + [x] + high \n",
    "        return len(low)\n",
    "\n",
    "    def median(self, a:list) -> int:\n",
    "        a.sort()\n",
    "        return a[(len(a)+1)//2 - 1]\n",
    "\n",
    "    def select(self,a:list,i:int) -> int:\n",
    "        if len(a) == 1:\n",
    "            return a[0]\n",
    "        groups = []\n",
    "        numOfGroups = int(math.ceil(len(a)*1.0//5))\n",
    "        start,end = 0,0\n",
    "        for j in range(0,numOfGroups-1):\n",
    "            start = j*5\n",
    "            end = start + 5\n",
    "            groups.append(a[start:end]) \n",
    "        groups.append(a[end:])\n",
    "        medians = []\n",
    "        for g in groups:\n",
    "            medians.append(self.median(g))\n",
    "        x = self.select(medians,(len(medians)+1)/2)\n",
    "        k = self.partition(a,1,len(a),x) + 1\n",
    "        if k == i :\n",
    "            return x \n",
    "        elif k > i :\n",
    "            return self.select(a[0:k],i) \n",
    "        else:\n",
    "            return self.select(a[k:],i-k)"
   ]
  },
  {
   "cell_type": "code",
   "execution_count": 117,
   "metadata": {
    "pycharm": {
     "is_executing": false
    }
   },
   "outputs": [],
   "source": [
    "class Kselect(lineSelect):\n",
    "    def Ksort(self,a:list,k:int) -> int:\n",
    "        print(\"输出\",k,\"位数\")\n",
    "        temp1=[]\n",
    "        temp2=[]\n",
    "        half = len(a)//2+1\n",
    "        Mid=self.select(a,half)\n",
    "        print(\"中位数是：\",Mid)\n",
    "        for i in range(len(a)):\n",
    "            temp1.append(abs(a[i]-Mid))\n",
    "        temp3=copy.deepcopy(temp1)\n",
    "        temp = self.select(temp3, k+1)\n",
    "        for i in range(len(temp1)):\n",
    "            if  temp1[i] <= temp and temp1[i]!=0:\n",
    "                temp2.append(i)\n",
    "        for i in range(0,k):\n",
    "                print(a[temp2[i]])"
   ]
  },
  {
   "cell_type": "code",
   "execution_count": 118,
   "metadata": {
    "pycharm": {
     "is_executing": false
    }
   },
   "outputs": [
    {
     "output_type": "stream",
     "name": "stdout",
     "text": "[63, 33, 74, 21, 14, 60, 9, 2, 48, 44, 34, 55, 31, 45, 5, 38, 20, 29, 99, 80, 35]\n输出 3 位数\n中位数是： 35\n33\n34\n38\n[2, 5, 9, 14, 20, 21, 29, 31, 33, 34, 35, 38, 44, 45, 48, 55, 60, 63, 74, 80, 99]\n"
    }
   ],
   "source": [
    "for i in range(10000):\n",
    "    quiz = random.sample(range(100), 21)\n",
    "print(quiz)\n",
    "ans = Kselect()\n",
    "k = eval(input(\"请输入k:\"))\n",
    "ans.Ksort(quiz,k)\n",
    "quiz.sort()\n",
    "print(quiz)"
   ]
  },
  {
   "cell_type": "code",
   "execution_count": null,
   "metadata": {},
   "outputs": [],
   "source": []
  }
 ]
}